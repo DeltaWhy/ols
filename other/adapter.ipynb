{
 "cells": [
  {
   "cell_type": "code",
   "execution_count": 1,
   "id": "7dbeeeb5-0129-421c-bf52-c363532be546",
   "metadata": {},
   "outputs": [
    {
     "name": "stdout",
     "output_type": "stream",
     "text": [
      "Overwriting auto display for cadquery Workplane and Shape\n"
     ]
    },
    {
     "data": {
      "text/plain": [
       "<cad_viewer_widget.widget.CadViewer at 0x7f58d024f2b0>"
      ]
     },
     "execution_count": 1,
     "metadata": {},
     "output_type": "execute_result"
    }
   ],
   "source": [
    "from jupyter_cadquery import set_defaults, open_viewer, show\n",
    "#set_defaults(theme=\"dark\")\n",
    "open_viewer(\"CadQuery\")"
   ]
  },
  {
   "cell_type": "code",
   "execution_count": 2,
   "id": "b6af444c-ad68-409a-ab22-1e2eda9445a6",
   "metadata": {},
   "outputs": [],
   "source": [
    "import cadquery as cq\n",
    "\n",
    "#cross = cq.Sketch().rect(1.17+0.6, 1.17+0.6).vertices().circle(0.3,mode='s').reset().rect(4.1, 1.17).rect(1.17, 4.1)\n",
    "cross = cq.Sketch().circle(5.3/2).rect(1.17+0.6, 1.17+0.6, mode='s', tag='x').vertices(tag='x').circle(0.3,mode='a').reset().rect(4.1, 1.17, mode='s').rect(1.17, 4.1, mode='s').clean()\n",
    "cross"
   ]
  },
  {
   "cell_type": "code",
   "execution_count": 55,
   "id": "7f468bb8-a7c9-430d-916b-f4eacf8b5b95",
   "metadata": {},
   "outputs": [
    {
     "name": "stdout",
     "output_type": "stream",
     "text": [
      "100% ⋮————————————————————————————————————————————————————————————⋮ (2/2)  0.00s\n"
     ]
    }
   ],
   "source": [
    "#choc = cq.Sketch().rect(10, 6).vertices().chamfer(0.75).push([(-5.7/2,0),(5.7/2,0)]).rect(1.2,3, mode='s')\n",
    "choc = cq.Sketch().rect(10, 6).push([(-5.7/2,0),(5.7/2,0)]).rect(1.2,3, mode='s')\n",
    "choc"
   ]
  },
  {
   "cell_type": "code",
   "execution_count": 56,
   "id": "75bef5ae-103b-4eb1-b3de-7572c5044a03",
   "metadata": {},
   "outputs": [],
   "source": [
    "obj = cq.Workplane(\"XY\").placeSketch(choc).extrude(2).faces(\">Z\").placeSketch(cross).extrude(5)\n",
    "obj"
   ]
  },
  {
   "cell_type": "code",
   "execution_count": 58,
   "id": "0573731a-439f-4811-aa68-e2088d3403f3",
   "metadata": {},
   "outputs": [],
   "source": [
    "obj2 = obj.edges(\">Z and %Line\").chamfer(0.2).edges(cq.selectors.RadiusNthSelector(2)).edges(\">Z\").chamfer(0.1).rotate((0,0,0),(1,0,0),90)\n",
    "obj2"
   ]
  },
  {
   "cell_type": "code",
   "execution_count": 59,
   "id": "b5f4c521-3d83-4884-a4eb-ae5ea34f859f",
   "metadata": {},
   "outputs": [
    {
     "name": "stdout",
     "output_type": "stream",
     "text": [
      "\u001b[32;1m\n",
      "*******************************************************************\n",
      "******        Statistics on Transfer (Write)                 ******\u001b[0m\n",
      "\u001b[32;1m\n",
      "*******************************************************************\n",
      "******        Transfer Mode = 0  I.E.  As Is       ******\u001b[0m\n",
      "\u001b[32;1m******        Transferring Shape, ShapeType = 0                      ******\u001b[0m\n",
      "\u001b[32;1m** WorkSession : Sending all data\u001b[0m\n",
      "\u001b[32;1m Step File Name : mx-to-choc.step(3465 ents)  Write  Done\u001b[0m\n"
     ]
    }
   ],
   "source": [
    "cq.exporters.export(obj2, 'mx-to-choc.stl', tolerance=0.001, angularTolerance=0.05)\n",
    "cq.exporters.export(obj2, 'mx-to-choc.step')"
   ]
  },
  {
   "cell_type": "code",
   "execution_count": null,
   "id": "8f18ab74-a790-4432-acc7-1937cb6284a7",
   "metadata": {},
   "outputs": [],
   "source": []
  }
 ],
 "metadata": {
  "kernelspec": {
   "display_name": "Python 3 (ipykernel)",
   "language": "python",
   "name": "python3"
  },
  "language_info": {
   "codemirror_mode": {
    "name": "ipython",
    "version": 3
   },
   "file_extension": ".py",
   "mimetype": "text/x-python",
   "name": "python",
   "nbconvert_exporter": "python",
   "pygments_lexer": "ipython3",
   "version": "3.8.13"
  }
 },
 "nbformat": 4,
 "nbformat_minor": 5
}
