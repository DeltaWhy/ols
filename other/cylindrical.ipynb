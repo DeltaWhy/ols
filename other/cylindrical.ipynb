{
 "cells": [
  {
   "cell_type": "code",
   "execution_count": 1,
   "id": "0890480a-0f66-4f5f-acb0-550935261d92",
   "metadata": {},
   "outputs": [
    {
     "name": "stdout",
     "output_type": "stream",
     "text": [
      "Overwriting auto display for cadquery Workplane and Shape\n"
     ]
    },
    {
     "data": {
      "text/plain": [
       "<cad_viewer_widget.widget.CadViewer at 0x7f80786259d0>"
      ]
     },
     "execution_count": 1,
     "metadata": {},
     "output_type": "execute_result"
    }
   ],
   "source": [
    "from jupyter_cadquery import set_defaults, open_viewer, show\n",
    "#set_defaults(theme=\"dark\")\n",
    "open_viewer(\"CadQuery\")"
   ]
  },
  {
   "cell_type": "code",
   "execution_count": 2,
   "id": "0b29ac9c-b2ec-4e52-b9c9-b414611939be",
   "metadata": {},
   "outputs": [
    {
     "name": "stdout",
     "output_type": "stream",
     "text": [
      "100% ⋮————————————————————————————————————————————————————————————⋮ (2/2)  0.01s\n"
     ]
    }
   ],
   "source": [
    "import cadquery as cq\n",
    "bx = 17.5\n",
    "by = 16.5\n",
    "rb = 0.5\n",
    "\n",
    "base = cq.Sketch().rect(bx, by).vertices().fillet(rb)\n",
    "base"
   ]
  },
  {
   "cell_type": "code",
   "execution_count": 3,
   "id": "d6ee3644-a3b1-44b1-ac05-a9cae217268a",
   "metadata": {},
   "outputs": [
    {
     "name": "stdout",
     "output_type": "stream",
     "text": [
      "100% ⋮————————————————————————————————————————————————————————————⋮ (3/3)  0.01s\n"
     ]
    },
    {
     "data": {
      "text/plain": [
       "<cad_viewer_widget.widget.CadViewer at 0x7f80786259d0>"
      ]
     },
     "execution_count": 3,
     "metadata": {},
     "output_type": "execute_result"
    }
   ],
   "source": [
    "tx = 13.5\n",
    "ty = 12.5\n",
    "rt = 0.5\n",
    "height = 5.5\n",
    "\n",
    "top = cq.Sketch().rect(tx, ty).vertices().fillet(rt).moved(cq.Location(cq.Vector(0, 0, height)))\n",
    "show(top, base)"
   ]
  },
  {
   "cell_type": "code",
   "execution_count": 4,
   "id": "290050dc-3c20-484b-a2ed-2123630ab29e",
   "metadata": {},
   "outputs": [],
   "source": [
    "angle = -7\n",
    "faceTop = cq.Workplane(\"XY\").transformed(offset=(0,0,0), rotate=(angle,0,0)).placeSketch(top)\n",
    "keycap1 = cq.Workplane(\"XY\").placeSketch(base).add(faceTop).loft()\n",
    "keycap1"
   ]
  },
  {
   "cell_type": "code",
   "execution_count": 5,
   "id": "6875cb6c-211a-4628-a338-cea4422a8cd4",
   "metadata": {},
   "outputs": [
    {
     "data": {
      "text/plain": [
       "<cad_viewer_widget.widget.CadViewer at 0x7f80786259d0>"
      ]
     },
     "execution_count": 5,
     "metadata": {},
     "output_type": "execute_result"
    }
   ],
   "source": [
    "depth = 1.0\n",
    "scoop = (\n",
    "    cq.Workplane(\"XZ\").transformed(offset=(0, height, 0), rotate=(angle, 0, 0))\n",
    "    .add(keycap1).moveTo(-tx/2-0.2,0).threePointArc((0, -depth),(tx/2+0.2,0))\n",
    "    .lineTo(bx/2,height).lineTo(-bx/2,height).close().cutThruAll()\n",
    ")\n",
    "show(scoop)"
   ]
  },
  {
   "cell_type": "code",
   "execution_count": 7,
   "id": "7e75e6f7-cc21-423b-81e1-20b2340d0c8a",
   "metadata": {},
   "outputs": [],
   "source": [
    "keycap2 = scoop.edges(\">>Z[-2]\").fillet(0.5)\n",
    "keycap2"
   ]
  },
  {
   "cell_type": "code",
   "execution_count": 8,
   "id": "e3903b94-3509-4da4-8ba5-c5b1a165ac4e",
   "metadata": {},
   "outputs": [
    {
     "name": "stdout",
     "output_type": "stream",
     "text": [
      "100% ⋮————————————————————————————————————————————————————————————⋮ (4/4)  0.01s\n"
     ]
    },
    {
     "data": {
      "text/plain": [
       "<cad_viewer_widget.widget.CadViewer at 0x7f80786259d0>"
      ]
     },
     "execution_count": 8,
     "metadata": {},
     "output_type": "execute_result"
    }
   ],
   "source": [
    "thickness = 1.5\n",
    "innerBase = cq.Sketch().rect(bx - 2*thickness, by - 2*thickness).vertices().fillet(rb)\n",
    "show(base, innerBase)"
   ]
  },
  {
   "cell_type": "code",
   "execution_count": 9,
   "id": "a4ff85b7-8fdd-41a3-b4ee-08b74db7609b",
   "metadata": {},
   "outputs": [
    {
     "name": "stdout",
     "output_type": "stream",
     "text": [
      "100% ⋮————————————————————————————————————————————————————————————⋮ (2/2)  0.01s\n"
     ]
    },
    {
     "data": {
      "text/plain": [
       "<cad_viewer_widget.widget.CadViewer at 0x7f80786259d0>"
      ]
     },
     "execution_count": 9,
     "metadata": {},
     "output_type": "execute_result"
    }
   ],
   "source": [
    "innerTop = cq.Sketch().rect(tx - 2*thickness, ty - 2*thickness).vertices().fillet(rt).moved(cq.Location(cq.Vector(0, 0, height - thickness)))\n",
    "show(top, innerTop)"
   ]
  },
  {
   "cell_type": "code",
   "execution_count": 10,
   "id": "14b8d432-1f43-4f32-965f-95222d2e40ec",
   "metadata": {},
   "outputs": [
    {
     "name": "stdout",
     "output_type": "stream",
     "text": [
      "100% ⋮————————————————————————————————————————————————————————————⋮ (2/2)  0.02s\n"
     ]
    },
    {
     "data": {
      "text/plain": [
       "<cad_viewer_widget.widget.CadViewer at 0x7f80786259d0>"
      ]
     },
     "execution_count": 10,
     "metadata": {},
     "output_type": "execute_result"
    }
   ],
   "source": [
    "faceInnerTop = cq.Workplane(\"XY\").transformed(offset=(0,0,0), rotate=(angle,0,0)).placeSketch(innerTop).tag(\"innerTop\")\n",
    "inner = cq.Workplane(\"XY\").placeSketch(innerBase).add(faceInnerTop).loft()\n",
    "show(keycap2, inner)"
   ]
  },
  {
   "cell_type": "code",
   "execution_count": 11,
   "id": "2bf85a36-6a4a-4964-8ed1-de9e1ac3fe7f",
   "metadata": {},
   "outputs": [
    {
     "data": {
      "text/plain": [
       "<cad_viewer_widget.widget.CadViewer at 0x7f80786259d0>"
      ]
     },
     "execution_count": 11,
     "metadata": {},
     "output_type": "execute_result"
    }
   ],
   "source": [
    "keycap3 = keycap2 - inner\n",
    "show(keycap3)"
   ]
  },
  {
   "cell_type": "code",
   "execution_count": 12,
   "id": "955add3e-7bd7-4c62-b3cc-5deb08d5d895",
   "metadata": {},
   "outputs": [],
   "source": [
    "#cross = cq.Sketch().rect(1.17+0.6, 1.17+0.6).vertices().circle(0.3,mode='s').reset().rect(4.1, 1.17).rect(1.17, 4.1)\n",
    "cross = cq.Sketch().circle(5.54/2).rect(1.17+0.6, 1.17+0.6, mode='s', tag='x').vertices(tag='x').circle(0.3,mode='a').reset().rect(4.1, 1.17, mode='s').rect(1.17, 4.1, mode='s').clean()\n",
    "cross"
   ]
  },
  {
   "cell_type": "code",
   "execution_count": 14,
   "id": "98f24e83-75b8-4953-8610-007d577edaa4",
   "metadata": {},
   "outputs": [],
   "source": [
    "keycap4 = cq.Workplane(\"XY\").placeSketch(cross).extrude(height,combine=False).intersect(inner).add(keycap3).combine()\n",
    "keycap4"
   ]
  },
  {
   "cell_type": "code",
   "execution_count": 16,
   "id": "0cfd0ffd-1200-4adc-8248-ec19aeab0076",
   "metadata": {},
   "outputs": [
    {
     "name": "stdout",
     "output_type": "stream",
     "text": [
      "\u001b[32;1m\n",
      "*******************************************************************\n",
      "******        Statistics on Transfer (Write)                 ******\u001b[0m\n",
      "\u001b[32;1m\n",
      "*******************************************************************\n",
      "******        Transfer Mode = 0  I.E.  As Is       ******\u001b[0m\n",
      "\u001b[32;1m******        Transferring Shape, ShapeType = 0                      ******\u001b[0m\n",
      "\u001b[32;1m** WorkSession : Sending all data\u001b[0m\n",
      "\u001b[32;1m Step File Name : cylindrical.step(4881 ents)  Write  Done\u001b[0m\n"
     ]
    }
   ],
   "source": [
    "cq.exporters.export(keycap4, 'cylindrical.stl', tolerance=0.001, angularTolerance=0.05)\n",
    "cq.exporters.export(keycap4, 'cylindrical.step')"
   ]
  },
  {
   "cell_type": "code",
   "execution_count": null,
   "id": "701bd062-8653-458c-a152-e700212c1451",
   "metadata": {},
   "outputs": [],
   "source": []
  }
 ],
 "metadata": {
  "kernelspec": {
   "display_name": "Python 3 (ipykernel)",
   "language": "python",
   "name": "python3"
  },
  "language_info": {
   "codemirror_mode": {
    "name": "ipython",
    "version": 3
   },
   "file_extension": ".py",
   "mimetype": "text/x-python",
   "name": "python",
   "nbconvert_exporter": "python",
   "pygments_lexer": "ipython3",
   "version": "3.8.13"
  }
 },
 "nbformat": 4,
 "nbformat_minor": 5
}
