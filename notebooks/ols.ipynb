{
 "cells": [
  {
   "cell_type": "code",
   "execution_count": 1,
   "id": "3e88178a-e6e0-4ac5-a24d-d5f0566b4e06",
   "metadata": {
    "tags": []
   },
   "outputs": [
    {
     "name": "stdout",
     "output_type": "stream",
     "text": [
      "Overwriting auto display for cadquery Workplane and Shape\n"
     ]
    },
    {
     "data": {
      "text/plain": [
       "<cad_viewer_widget.widget.CadViewer at 0x7ff6f9f37b80>"
      ]
     },
     "execution_count": 1,
     "metadata": {},
     "output_type": "execute_result"
    }
   ],
   "source": [
    "from jupyter_cadquery import set_defaults, open_viewer, show\n",
    "#set_defaults(theme=\"dark\")\n",
    "open_viewer(\"CadQuery\")"
   ]
  },
  {
   "cell_type": "code",
   "execution_count": 2,
   "id": "d7031e3e-972b-4f56-a00f-0e5d111dd8b0",
   "metadata": {},
   "outputs": [
    {
     "name": "stdout",
     "output_type": "stream",
     "text": [
      "/home/michael/code/ols\n"
     ]
    }
   ],
   "source": [
    "%cd ..\n",
    "from ols import keycap"
   ]
  },
  {
   "cell_type": "code",
   "execution_count": 3,
   "id": "9b4aa2d5-8d42-4779-afcf-2893973886da",
   "metadata": {},
   "outputs": [
    {
     "name": "stdout",
     "output_type": "stream",
     "text": [
      "100% ⋮————————————————————————————————————————————————————————————⋮ (6/6)  0.63s\n"
     ]
    }
   ],
   "source": [
    "import cadquery as cq\n",
    "assembly = cq.Assembly()\n",
    "assembly.add(keycap(stemType='choc', cut=True))\n",
    "assembly.add(keycap(stemType='choc', angle=-6, height=5.5, cut=0.8), loc=cq.Location((0, -19.05, 0)))\n",
    "assembly.add(keycap(stemType='choc', angle=-12, height=6.0, cut=0.8), loc=cq.Location((0, -19.05*2, 0)))\n",
    "assembly.add(keycap(stemType='choc', angle=6, height=5.5, cut=0.4), loc=cq.Location((0, 19.05 * 2, 0)))\n",
    "assembly.add(keycap(stemType='choc', depth=2.0, cut=True), loc=cq.Location((0, 19.05, 0)))\n",
    "assembly.add(keycap(stemType='choc', depth=-1.0, height=5.5, cut=0.5), loc=cq.Location((0, 19.05*3, 0)))\n",
    "assembly"
   ]
  },
  {
   "cell_type": "code",
   "execution_count": 4,
   "id": "b2331b73-7c9e-4e4c-af29-b58b681f061f",
   "metadata": {},
   "outputs": [
    {
     "ename": "NameError",
     "evalue": "name 'show_object' is not defined",
     "output_type": "error",
     "traceback": [
      "\u001b[0;31m---------------------------------------------------------------------------\u001b[0m",
      "\u001b[0;31mNameError\u001b[0m                                 Traceback (most recent call last)",
      "Cell \u001b[0;32mIn[4], line 1\u001b[0m\n\u001b[0;32m----> 1\u001b[0m \u001b[43mkeycap\u001b[49m\u001b[43m(\u001b[49m\u001b[43munitX\u001b[49m\u001b[38;5;241;43m=\u001b[39;49m\u001b[38;5;241;43m7\u001b[39;49m\u001b[43m,\u001b[49m\u001b[43m \u001b[49m\u001b[43mdepth\u001b[49m\u001b[38;5;241;43m=\u001b[39;49m\u001b[38;5;241;43m-\u001b[39;49m\u001b[38;5;241;43m1.0\u001b[39;49m\u001b[43m,\u001b[49m\u001b[43m \u001b[49m\u001b[43mheight\u001b[49m\u001b[38;5;241;43m=\u001b[39;49m\u001b[38;5;241;43m5.5\u001b[39;49m\u001b[43m,\u001b[49m\u001b[43m \u001b[49m\u001b[43mcut\u001b[49m\u001b[38;5;241;43m=\u001b[39;49m\u001b[38;5;241;43m0.6\u001b[39;49m\u001b[43m)\u001b[49m\n",
      "File \u001b[0;32m~/code/ols/ols.py:78\u001b[0m, in \u001b[0;36mkeycap\u001b[0;34m(unitX, unitY, unit, bx, by, rb, tx, ty, rt, height, angle, depth, thickness, topThickness, fillet, stemType, stemTolerance, stemTolerance2, stemHeight, stemChamfer1, stemChamfer2, homingDot, cut)\u001b[0m\n\u001b[1;32m     76\u001b[0m cross \u001b[38;5;241m=\u001b[39m cq\u001b[38;5;241m.\u001b[39mSketch()\u001b[38;5;241m.\u001b[39mcircle(\u001b[38;5;241m5.3\u001b[39m\u001b[38;5;241m/\u001b[39m\u001b[38;5;241m2\u001b[39m)\u001b[38;5;241m.\u001b[39mrect(\u001b[38;5;241m1.17\u001b[39m\u001b[38;5;241m+\u001b[39mstemTolerance\u001b[38;5;241m+\u001b[39m\u001b[38;5;241m0.6\u001b[39m, \u001b[38;5;241m1.17\u001b[39m\u001b[38;5;241m+\u001b[39mstemTolerance\u001b[38;5;241m+\u001b[39m\u001b[38;5;241m0.6\u001b[39m, mode\u001b[38;5;241m=\u001b[39m\u001b[38;5;124m'\u001b[39m\u001b[38;5;124ms\u001b[39m\u001b[38;5;124m'\u001b[39m, tag\u001b[38;5;241m=\u001b[39m\u001b[38;5;124m'\u001b[39m\u001b[38;5;124mx\u001b[39m\u001b[38;5;124m'\u001b[39m)\u001b[38;5;241m.\u001b[39mvertices(tag\u001b[38;5;241m=\u001b[39m\u001b[38;5;124m'\u001b[39m\u001b[38;5;124mx\u001b[39m\u001b[38;5;124m'\u001b[39m)\u001b[38;5;241m.\u001b[39mcircle(\u001b[38;5;241m0.3\u001b[39m,mode\u001b[38;5;241m=\u001b[39m\u001b[38;5;124m'\u001b[39m\u001b[38;5;124ma\u001b[39m\u001b[38;5;124m'\u001b[39m)\u001b[38;5;241m.\u001b[39mreset()\u001b[38;5;241m.\u001b[39mrect(\u001b[38;5;241m4.1\u001b[39m\u001b[38;5;241m+\u001b[39mstemTolerance, \u001b[38;5;241m1.17\u001b[39m\u001b[38;5;241m+\u001b[39mstemTolerance, mode\u001b[38;5;241m=\u001b[39m\u001b[38;5;124m'\u001b[39m\u001b[38;5;124ms\u001b[39m\u001b[38;5;124m'\u001b[39m)\u001b[38;5;241m.\u001b[39mrect(\u001b[38;5;241m1.17\u001b[39m\u001b[38;5;241m+\u001b[39mstemTolerance, \u001b[38;5;241m4.1\u001b[39m\u001b[38;5;241m+\u001b[39mstemTolerance, mode\u001b[38;5;241m=\u001b[39m\u001b[38;5;124m'\u001b[39m\u001b[38;5;124ms\u001b[39m\u001b[38;5;124m'\u001b[39m)\u001b[38;5;241m.\u001b[39mclean()\n\u001b[1;32m     77\u001b[0m \u001b[38;5;66;03m#cross\u001b[39;00m\n\u001b[0;32m---> 78\u001b[0m \u001b[43mshow_object\u001b[49m(cross)\n\u001b[1;32m     79\u001b[0m points \u001b[38;5;241m=\u001b[39m [cq\u001b[38;5;241m.\u001b[39mLocation(cq\u001b[38;5;241m.\u001b[39mVector(\u001b[38;5;241m0\u001b[39m,\u001b[38;5;241m0\u001b[39m,\u001b[38;5;241m-\u001b[39mstemHeight))]\n\u001b[1;32m     80\u001b[0m \u001b[38;5;28;01mif\u001b[39;00m unitX \u001b[38;5;241m>\u001b[39m \u001b[38;5;241m2\u001b[39m:\n",
      "\u001b[0;31mNameError\u001b[0m: name 'show_object' is not defined"
     ]
    }
   ],
   "source": [
    "keycap(unitX=7, depth=-1.0, height=5.5, cut=0.6)"
   ]
  },
  {
   "cell_type": "code",
   "execution_count": 7,
   "id": "c40957b6-f9c3-4575-aa0a-733613d8ea6d",
   "metadata": {},
   "outputs": [],
   "source": [
    "keycap(unitX=2.75, depth=-1.0, height=5.5, cut=0.6).rotate((0,0,0), (1,0,0), 90).rotate((0,0,0), (0,0,1), 180)"
   ]
  },
  {
   "cell_type": "code",
   "execution_count": 9,
   "id": "214592f3-49aa-428d-a373-50df818b47ad",
   "metadata": {},
   "outputs": [],
   "source": [
    "cq.exporters.export(keycap(cut=True, stemTolerance=0.05), 'r3-tol-0.05.stl', tolerance=0.001, angularTolerance=0.05)\n",
    "cq.exporters.export(keycap(cut=True, stemTolerance=0.1), 'r3-tol-0.1.stl', tolerance=0.001, angularTolerance=0.05)"
   ]
  },
  {
   "cell_type": "code",
   "execution_count": 12,
   "id": "1db00200-347a-4a5b-931a-a655267644b6",
   "metadata": {},
   "outputs": [],
   "source": [
    "cq.exporters.export(keycap(stemType='choc', cut=True, stemHeight=0), 'r3-choc-0height.stl', tolerance=0.001, angularTolerance=0.05)\n",
    "cq.exporters.export(keycap(stemType='choc', cut=True, stemHeight=0.5), 'r3-choc-0.5height.stl', tolerance=0.001, angularTolerance=0.05)"
   ]
  },
  {
   "cell_type": "code",
   "execution_count": null,
   "id": "bc5309fa-6e35-4441-80b2-cbbc2e907458",
   "metadata": {},
   "outputs": [],
   "source": []
  }
 ],
 "metadata": {
  "kernelspec": {
   "display_name": "Python 3 (ipykernel)",
   "language": "python",
   "name": "python3"
  },
  "language_info": {
   "codemirror_mode": {
    "name": "ipython",
    "version": 3
   },
   "file_extension": ".py",
   "mimetype": "text/x-python",
   "name": "python",
   "nbconvert_exporter": "python",
   "pygments_lexer": "ipython3",
   "version": "3.10.9"
  }
 },
 "nbformat": 4,
 "nbformat_minor": 5
}
