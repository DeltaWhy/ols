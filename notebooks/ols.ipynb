{
 "cells": [
  {
   "cell_type": "code",
   "execution_count": 1,
   "id": "3e88178a-e6e0-4ac5-a24d-d5f0566b4e06",
   "metadata": {
    "tags": []
   },
   "outputs": [
    {
     "name": "stdout",
     "output_type": "stream",
     "text": [
      "Overwriting auto display for cadquery Workplane and Shape\n"
     ]
    },
    {
     "data": {
      "text/plain": [
       "<cad_viewer_widget.widget.CadViewer at 0x7fcdd371e7d0>"
      ]
     },
     "execution_count": 1,
     "metadata": {},
     "output_type": "execute_result"
    }
   ],
   "source": [
    "from jupyter_cadquery import set_defaults, open_viewer, show\n",
    "#set_defaults(theme=\"dark\")\n",
    "open_viewer(\"CadQuery\")"
   ]
  },
  {
   "cell_type": "code",
   "execution_count": 2,
   "id": "d7031e3e-972b-4f56-a00f-0e5d111dd8b0",
   "metadata": {},
   "outputs": [
    {
     "name": "stdout",
     "output_type": "stream",
     "text": [
      "/home/michael/code/ols\n"
     ]
    }
   ],
   "source": [
    "%cd ..\n",
    "from ols import keycap"
   ]
  },
  {
   "cell_type": "code",
   "execution_count": 14,
   "id": "9b4aa2d5-8d42-4779-afcf-2893973886da",
   "metadata": {},
   "outputs": [
    {
     "name": "stdout",
     "output_type": "stream",
     "text": [
      "100% ⋮————————————————————————————————————————————————————————————⋮ (6/6)  0.66s\n"
     ]
    }
   ],
   "source": [
    "import cadquery as cq\n",
    "assembly = cq.Assembly()\n",
    "assembly.add(keycap(stemType='choc', cut=True))\n",
    "assembly.add(keycap(stemType='choc', angle=-6, height=5.5, cut=0.8), loc=cq.Location((0, -19.05, 0)))\n",
    "assembly.add(keycap(stemType='choc', angle=-9, height=6.5, cut=0.7), loc=cq.Location((0, -19.05*2, 0)))\n",
    "assembly.add(keycap(stemType='choc', angle=6, height=5.5, cut=0.4), loc=cq.Location((0, 19.05 * 2, 0)))\n",
    "assembly.add(keycap(stemType='choc', depth=2.0, cut=True), loc=cq.Location((0, 19.05, 0)))\n",
    "assembly.add(keycap(stemType='choc', depth=-1.0, angle=0, height=6.0, cut=0.5), loc=cq.Location((0, 19.05*3, 0)))\n",
    "assembly"
   ]
  },
  {
   "cell_type": "code",
   "execution_count": 4,
   "id": "b2331b73-7c9e-4e4c-af29-b58b681f061f",
   "metadata": {},
   "outputs": [],
   "source": [
    "keycap(unitX=7, depth=-1.0, height=5.5, cut=0.6)"
   ]
  },
  {
   "cell_type": "code",
   "execution_count": 5,
   "id": "c40957b6-f9c3-4575-aa0a-733613d8ea6d",
   "metadata": {},
   "outputs": [],
   "source": [
    "keycap(unitX=2.75, depth=-1.0, height=5.5, cut=0.6).rotate((0,0,0), (1,0,0), 90).rotate((0,0,0), (0,0,1), 180)"
   ]
  },
  {
   "cell_type": "code",
   "execution_count": 10,
   "id": "d996c2cd-1d75-4c43-bb4a-3c8e2592e9f7",
   "metadata": {},
   "outputs": [],
   "source": [
    "keycap(stemType='choc', angle=0, height=5.5, depth=-1.5)"
   ]
  },
  {
   "cell_type": "code",
   "execution_count": 11,
   "id": "bc5309fa-6e35-4441-80b2-cbbc2e907458",
   "metadata": {},
   "outputs": [
    {
     "ename": "StdFail_NotDone",
     "evalue": "BRep_API: command not done",
     "output_type": "error",
     "traceback": [
      "\u001b[0;31m---------------------------------------------------------------------------\u001b[0m",
      "\u001b[0;31mStdFail_NotDone\u001b[0m                           Traceback (most recent call last)",
      "Cell \u001b[0;32mIn[11], line 3\u001b[0m\n\u001b[1;32m      1\u001b[0m assembly \u001b[38;5;241m=\u001b[39m cq\u001b[38;5;241m.\u001b[39mAssembly()\n\u001b[1;32m      2\u001b[0m assembly\u001b[38;5;241m.\u001b[39madd(keycap(cut\u001b[38;5;241m=\u001b[39m\u001b[38;5;28;01mTrue\u001b[39;00m))\n\u001b[0;32m----> 3\u001b[0m assembly\u001b[38;5;241m.\u001b[39madd(\u001b[43mkeycap\u001b[49m\u001b[43m(\u001b[49m\u001b[43mstemType\u001b[49m\u001b[38;5;241;43m=\u001b[39;49m\u001b[38;5;124;43m'\u001b[39;49m\u001b[38;5;124;43mchoc\u001b[39;49m\u001b[38;5;124;43m'\u001b[39;49m\u001b[43m,\u001b[49m\u001b[43m \u001b[49m\u001b[43mangle\u001b[49m\u001b[38;5;241;43m=\u001b[39;49m\u001b[38;5;241;43m-\u001b[39;49m\u001b[38;5;241;43m6\u001b[39;49m\u001b[43m,\u001b[49m\u001b[43m \u001b[49m\u001b[43mheight\u001b[49m\u001b[38;5;241;43m=\u001b[39;49m\u001b[38;5;241;43m5.5\u001b[39;49m\u001b[43m,\u001b[49m\u001b[43m \u001b[49m\u001b[43mcut\u001b[49m\u001b[38;5;241;43m=\u001b[39;49m\u001b[38;5;241;43m0.8\u001b[39;49m\u001b[43m,\u001b[49m\u001b[43m \u001b[49m\u001b[43mdepth\u001b[49m\u001b[38;5;241;43m=\u001b[39;49m\u001b[38;5;241;43m-\u001b[39;49m\u001b[38;5;241;43m1.5\u001b[39;49m\u001b[43m)\u001b[49m, loc\u001b[38;5;241m=\u001b[39mcq\u001b[38;5;241m.\u001b[39mLocation((\u001b[38;5;241m0\u001b[39m, \u001b[38;5;241m-\u001b[39m\u001b[38;5;241m19.05\u001b[39m, \u001b[38;5;241m0\u001b[39m)))\n\u001b[1;32m      4\u001b[0m \u001b[38;5;66;03m#assembly.add(keycap(stemType='choc', angle=-12, height=6.0, cut=0.8), loc=cq.Location((0, -19.05*2, 0)))\u001b[39;00m\n\u001b[1;32m      5\u001b[0m assembly\u001b[38;5;241m.\u001b[39madd(keycap(stemType\u001b[38;5;241m=\u001b[39m\u001b[38;5;124m'\u001b[39m\u001b[38;5;124mchoc\u001b[39m\u001b[38;5;124m'\u001b[39m, angle\u001b[38;5;241m=\u001b[39m\u001b[38;5;241m6\u001b[39m, height\u001b[38;5;241m=\u001b[39m\u001b[38;5;241m5.5\u001b[39m, cut\u001b[38;5;241m=\u001b[39m\u001b[38;5;241m0.4\u001b[39m), loc\u001b[38;5;241m=\u001b[39mcq\u001b[38;5;241m.\u001b[39mLocation((\u001b[38;5;241m0\u001b[39m, \u001b[38;5;241m19.05\u001b[39m, \u001b[38;5;241m0\u001b[39m)))\n",
      "File \u001b[0;32m~/code/ols/ols.py:67\u001b[0m, in \u001b[0;36mkeycap\u001b[0;34m(unitX, unitY, unit, bx, by, rb, tx, ty, rt, height, angle, depth, thickness, topThickness, fillet, stemType, stemTolerance, stemTolerance2, stemHeight, stemChamfer1, stemChamfer2, homingDot, cut)\u001b[0m\n\u001b[1;32m     64\u001b[0m \u001b[38;5;66;03m#show(keycap1, dish)\u001b[39;00m\n\u001b[1;32m     65\u001b[0m keycap2 \u001b[38;5;241m=\u001b[39m keycap1 \u001b[38;5;241m-\u001b[39m dish\n\u001b[0;32m---> 67\u001b[0m keycap3 \u001b[38;5;241m=\u001b[39m \u001b[43mkeycap2\u001b[49m\u001b[38;5;241;43m.\u001b[39;49m\u001b[43medges\u001b[49m\u001b[43m(\u001b[49m\u001b[38;5;124;43m\"\u001b[39;49m\u001b[38;5;124;43m>>Z[-2]\u001b[39;49m\u001b[38;5;124;43m\"\u001b[39;49m\u001b[43m)\u001b[49m\u001b[38;5;241;43m.\u001b[39;49m\u001b[43mfillet\u001b[49m\u001b[43m(\u001b[49m\u001b[43mfillet\u001b[49m\u001b[43m)\u001b[49m\n\u001b[1;32m     68\u001b[0m \u001b[38;5;66;03m#keycap3\u001b[39;00m\n\u001b[1;32m     70\u001b[0m innerBase \u001b[38;5;241m=\u001b[39m cq\u001b[38;5;241m.\u001b[39mSketch()\u001b[38;5;241m.\u001b[39mrect(baseX \u001b[38;5;241m-\u001b[39m \u001b[38;5;241m2\u001b[39m\u001b[38;5;241m*\u001b[39mthickness, baseY \u001b[38;5;241m-\u001b[39m \u001b[38;5;241m2\u001b[39m\u001b[38;5;241m*\u001b[39mthickness)\u001b[38;5;241m.\u001b[39mvertices()\u001b[38;5;241m.\u001b[39mfillet(rb)\n",
      "File \u001b[0;32m~/.conda/envs/ols/lib/python3.10/site-packages/cadquery/cq.py:1262\u001b[0m, in \u001b[0;36mWorkplane.fillet\u001b[0;34m(self, radius)\u001b[0m\n\u001b[1;32m   1259\u001b[0m \u001b[38;5;28;01mif\u001b[39;00m \u001b[38;5;28mlen\u001b[39m(edgeList) \u001b[38;5;241m<\u001b[39m \u001b[38;5;241m1\u001b[39m:\n\u001b[1;32m   1260\u001b[0m     \u001b[38;5;28;01mraise\u001b[39;00m \u001b[38;5;167;01mValueError\u001b[39;00m(\u001b[38;5;124m\"\u001b[39m\u001b[38;5;124mFillets requires that edges be selected\u001b[39m\u001b[38;5;124m\"\u001b[39m)\n\u001b[0;32m-> 1262\u001b[0m s \u001b[38;5;241m=\u001b[39m \u001b[43msolid\u001b[49m\u001b[38;5;241;43m.\u001b[39;49m\u001b[43mfillet\u001b[49m\u001b[43m(\u001b[49m\u001b[43mradius\u001b[49m\u001b[43m,\u001b[49m\u001b[43m \u001b[49m\u001b[43medgeList\u001b[49m\u001b[43m)\u001b[49m\n\u001b[1;32m   1263\u001b[0m \u001b[38;5;28;01mreturn\u001b[39;00m \u001b[38;5;28mself\u001b[39m\u001b[38;5;241m.\u001b[39mnewObject([s\u001b[38;5;241m.\u001b[39mclean()])\n",
      "File \u001b[0;32m~/.conda/envs/ols/lib/python3.10/site-packages/cadquery/occ_impl/shapes.py:2647\u001b[0m, in \u001b[0;36mMixin3D.fillet\u001b[0;34m(self, radius, edgeList)\u001b[0m\n\u001b[1;32m   2644\u001b[0m \u001b[38;5;28;01mfor\u001b[39;00m e \u001b[38;5;129;01min\u001b[39;00m nativeEdges:\n\u001b[1;32m   2645\u001b[0m     fillet_builder\u001b[38;5;241m.\u001b[39mAdd(radius, e)\n\u001b[0;32m-> 2647\u001b[0m \u001b[38;5;28;01mreturn\u001b[39;00m \u001b[38;5;28mself\u001b[39m\u001b[38;5;241m.\u001b[39m\u001b[38;5;18m__class__\u001b[39m(\u001b[43mfillet_builder\u001b[49m\u001b[38;5;241;43m.\u001b[39;49m\u001b[43mShape\u001b[49m\u001b[43m(\u001b[49m\u001b[43m)\u001b[49m)\n",
      "\u001b[0;31mStdFail_NotDone\u001b[0m: BRep_API: command not done"
     ]
    }
   ],
   "source": [
    "assembly = cq.Assembly()\n",
    "assembly.add(keycap(cut=True))\n",
    "assembly.add(keycap(stemType='choc', angle=0, height=5.5, cut=0.8, depth=-1.5), loc=cq.Location((0, -19.05, 0)))\n",
    "#assembly.add(keycap(stemType='choc', angle=-12, height=6.0, cut=0.8), loc=cq.Location((0, -19.05*2, 0)))\n",
    "assembly.add(keycap(stemType='choc', angle=6, height=5.5, cut=0.4), loc=cq.Location((0, 19.05, 0)))\n",
    "#assembly.add(keycap(stemType='choc', depth=2.0, cut=True), loc=cq.Location((0, 19.05, 0)))\n",
    "#assembly.add(keycap(stemType='choc', depth=-1.0, height=5.5, cut=0.5), loc=cq.Location((0, 19.05*3, 0)))\n",
    "assembly"
   ]
  },
  {
   "cell_type": "code",
   "execution_count": null,
   "id": "77e7d5e1-0a6d-4ea8-8cff-36b9c94ee9fa",
   "metadata": {},
   "outputs": [],
   "source": []
  }
 ],
 "metadata": {
  "kernelspec": {
   "display_name": "Python 3 (ipykernel)",
   "language": "python",
   "name": "python3"
  },
  "language_info": {
   "codemirror_mode": {
    "name": "ipython",
    "version": 3
   },
   "file_extension": ".py",
   "mimetype": "text/x-python",
   "name": "python",
   "nbconvert_exporter": "python",
   "pygments_lexer": "ipython3",
   "version": "3.10.9"
  }
 },
 "nbformat": 4,
 "nbformat_minor": 5
}
