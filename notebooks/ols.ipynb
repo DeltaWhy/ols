{
 "cells": [
  {
   "cell_type": "code",
   "execution_count": 1,
   "id": "3e88178a-e6e0-4ac5-a24d-d5f0566b4e06",
   "metadata": {
    "tags": []
   },
   "outputs": [
    {
     "name": "stdout",
     "output_type": "stream",
     "text": [
      "Overwriting auto display for cadquery Workplane and Shape\n"
     ]
    },
    {
     "data": {
      "text/plain": [
       "<cad_viewer_widget.widget.CadViewer at 0x7fb75c722c80>"
      ]
     },
     "execution_count": 1,
     "metadata": {},
     "output_type": "execute_result"
    }
   ],
   "source": [
    "from jupyter_cadquery import set_defaults, open_viewer, show\n",
    "#set_defaults(theme=\"dark\")\n",
    "open_viewer(\"CadQuery\")"
   ]
  },
  {
   "cell_type": "code",
   "execution_count": 2,
   "id": "d7031e3e-972b-4f56-a00f-0e5d111dd8b0",
   "metadata": {},
   "outputs": [],
   "source": [
    "from ols import keycap"
   ]
  },
  {
   "cell_type": "code",
   "execution_count": 3,
   "id": "9b4aa2d5-8d42-4779-afcf-2893973886da",
   "metadata": {},
   "outputs": [
    {
     "name": "stdout",
     "output_type": "stream",
     "text": [
      "100% ⋮————————————————————————————————————————————————————————————⋮ (6/6)  0.64s\n"
     ]
    }
   ],
   "source": [
    "import cadquery as cq\n",
    "assembly = cq.Assembly()\n",
    "assembly.add(keycap(cut=True))\n",
    "assembly.add(keycap(angle=-6, height=5.5, cut=0.8), loc=cq.Location((0, -19.05, 0)))\n",
    "assembly.add(keycap(angle=-12, height=6.0, cut=0.8), loc=cq.Location((0, -19.05*2, 0)))\n",
    "assembly.add(keycap(angle=6, height=5.5, cut=0.4), loc=cq.Location((0, 19.05 * 2, 0)))\n",
    "assembly.add(keycap(depth=2.0, cut=True), loc=cq.Location((0, 19.05, 0)))\n",
    "assembly.add(keycap(depth=-1.0, height=5.5, cut=0.5), loc=cq.Location((0, 19.05*3, 0)))\n",
    "assembly"
   ]
  },
  {
   "cell_type": "code",
   "execution_count": 6,
   "id": "b2331b73-7c9e-4e4c-af29-b58b681f061f",
   "metadata": {},
   "outputs": [],
   "source": [
    "keycap(unitX=7, depth=-1.0, height=5.5, cut=0.6)"
   ]
  },
  {
   "cell_type": "code",
   "execution_count": 7,
   "id": "c40957b6-f9c3-4575-aa0a-733613d8ea6d",
   "metadata": {},
   "outputs": [],
   "source": [
    "keycap(unitX=2.75, depth=-1.0, height=5.5, cut=0.6).rotate((0,0,0), (1,0,0), 90).rotate((0,0,0), (0,0,1), 180)"
   ]
  },
  {
   "cell_type": "code",
   "execution_count": null,
   "id": "214592f3-49aa-428d-a373-50df818b47ad",
   "metadata": {},
   "outputs": [],
   "source": []
  }
 ],
 "metadata": {
  "kernelspec": {
   "display_name": "Python 3 (ipykernel)",
   "language": "python",
   "name": "python3"
  },
  "language_info": {
   "codemirror_mode": {
    "name": "ipython",
    "version": 3
   },
   "file_extension": ".py",
   "mimetype": "text/x-python",
   "name": "python",
   "nbconvert_exporter": "python",
   "pygments_lexer": "ipython3",
   "version": "3.10.9"
  }
 },
 "nbformat": 4,
 "nbformat_minor": 5
}
