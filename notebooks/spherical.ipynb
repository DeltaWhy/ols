{
 "cells": [
  {
   "cell_type": "code",
   "execution_count": 1,
   "id": "0890480a-0f66-4f5f-acb0-550935261d92",
   "metadata": {},
   "outputs": [
    {
     "name": "stdout",
     "output_type": "stream",
     "text": [
      "Overwriting auto display for cadquery Workplane and Shape\n"
     ]
    },
    {
     "data": {
      "text/plain": [
       "<cad_viewer_widget.widget.CadViewer at 0x7ff0a844eb60>"
      ]
     },
     "execution_count": 1,
     "metadata": {},
     "output_type": "execute_result"
    }
   ],
   "source": [
    "from jupyter_cadquery import set_defaults, open_viewer, show\n",
    "#set_defaults(theme=\"dark\")\n",
    "open_viewer(\"CadQuery\")"
   ]
  },
  {
   "cell_type": "code",
   "execution_count": 2,
   "id": "0b29ac9c-b2ec-4e52-b9c9-b414611939be",
   "metadata": {},
   "outputs": [
    {
     "name": "stdout",
     "output_type": "stream",
     "text": [
      "100% ⋮————————————————————————————————————————————————————————————⋮ (2/2)  0.00s\n"
     ]
    }
   ],
   "source": [
    "import cadquery as cq\n",
    "bx = 18.3 + 5.25*19.05\n",
    "by = 18.3\n",
    "rb = 1.5\n",
    "\n",
    "base = cq.Sketch().rect(bx, by).vertices().fillet(rb)\n",
    "base"
   ]
  },
  {
   "cell_type": "code",
   "execution_count": 3,
   "id": "d6ee3644-a3b1-44b1-ac05-a9cae217268a",
   "metadata": {},
   "outputs": [
    {
     "name": "stdout",
     "output_type": "stream",
     "text": [
      "100% ⋮————————————————————————————————————————————————————————————⋮ (3/3)  0.00s\n"
     ]
    },
    {
     "data": {
      "text/plain": [
       "<cad_viewer_widget.widget.CadViewer at 0x7ff0a844eb60>"
      ]
     },
     "execution_count": 3,
     "metadata": {},
     "output_type": "execute_result"
    }
   ],
   "source": [
    "tx = 13.5 + 5.25*19.05\n",
    "ty = 13.5\n",
    "rt = 2.5\n",
    "height = 5.0\n",
    "\n",
    "top = cq.Sketch().rect(tx, ty).vertices().fillet(rt).moved(cq.Location(cq.Vector(0, 0, height)))\n",
    "show(top, base)"
   ]
  },
  {
   "cell_type": "code",
   "execution_count": 4,
   "id": "290050dc-3c20-484b-a2ed-2123630ab29e",
   "metadata": {},
   "outputs": [],
   "source": [
    "angle = 0\n",
    "faceTop = cq.Workplane(\"XY\").transformed(offset=(0,0,0), rotate=(angle,0,0)).placeSketch(top)\n",
    "keycap1 = cq.Workplane(\"XY\").tag(\"base\").placeSketch(base).add(faceTop).loft()\n",
    "keycap1"
   ]
  },
  {
   "cell_type": "code",
   "execution_count": 5,
   "id": "6875cb6c-211a-4628-a338-cea4422a8cd4",
   "metadata": {},
   "outputs": [
    {
     "name": "stdout",
     "output_type": "stream",
     "text": [
      "100% ⋮————————————————————————————————————————————————————————————⋮ (3/3)  0.00s\n"
     ]
    },
    {
     "data": {
      "text/plain": [
       "<cad_viewer_widget.widget.CadViewer at 0x7ff0a844eb60>"
      ]
     },
     "execution_count": 5,
     "metadata": {},
     "output_type": "execute_result"
    }
   ],
   "source": [
    "depth = -1.0\n",
    "scoop = (\n",
    "    cq.Workplane(\"XZ\").transformed(offset=(0, height+depth, 0), rotate=(angle, 0, 0))\n",
    "    .add(keycap1).moveTo(-tx/2-0.2,0).threePointArc((0, -depth),(tx/2+0.2,0))\n",
    "    .lineTo(bx/2,height).lineTo(-bx/2,height).close()\n",
    ")\n",
    "show(keycap1, scoop)"
   ]
  },
  {
   "cell_type": "code",
   "execution_count": 6,
   "id": "e3903b94-3509-4da4-8ba5-c5b1a165ac4e",
   "metadata": {},
   "outputs": [
    {
     "name": "stdout",
     "output_type": "stream",
     "text": [
      "100% ⋮————————————————————————————————————————————————————————————⋮ (2/2)  0.08s\n"
     ]
    }
   ],
   "source": [
    "r = depth/2 + ((bx/2+0.5)*2)**2/(8*depth)\n",
    "dish = (cq.Workplane(\"XZ\").transformed(offset=(0, height+depth, -0.5), rotate=(angle, 0, 0))\n",
    "    .moveTo(-bx/2-0.5,0).radiusArc((0, -depth),-r)\n",
    "    .lineTo(0, height).lineTo(-bx/2, height).close().revolve(360, combine=False)\n",
    ")\n",
    "show(keycap1, dish)\n",
    "keycap2 = keycap1 - dish"
   ]
  },
  {
   "cell_type": "code",
   "execution_count": 7,
   "id": "fc693caf-3f97-4ce1-bfba-6dce634c867d",
   "metadata": {},
   "outputs": [],
   "source": [
    "keycap3 = keycap2.edges(\">>Z[-2]\").fillet(0.5)\n",
    "keycap3"
   ]
  },
  {
   "cell_type": "code",
   "execution_count": 8,
   "id": "48ef3313-d12a-48e2-9c25-d57fb2b4d8e0",
   "metadata": {},
   "outputs": [
    {
     "name": "stdout",
     "output_type": "stream",
     "text": [
      "100% ⋮————————————————————————————————————————————————————————————⋮ (4/4)  0.00s\n"
     ]
    },
    {
     "data": {
      "text/plain": [
       "<cad_viewer_widget.widget.CadViewer at 0x7ff0a844eb60>"
      ]
     },
     "execution_count": 8,
     "metadata": {},
     "output_type": "execute_result"
    }
   ],
   "source": [
    "thickness = 1.5\n",
    "topThickness = 1.5\n",
    "innerBase = cq.Sketch().rect(bx - 2*thickness, by - 2*thickness).vertices().fillet(rb)\n",
    "show(base, innerBase)"
   ]
  },
  {
   "cell_type": "code",
   "execution_count": 9,
   "id": "8e6b117c-7753-4f74-ad8d-1a8072c4307d",
   "metadata": {},
   "outputs": [
    {
     "name": "stdout",
     "output_type": "stream",
     "text": [
      "100% ⋮————————————————————————————————————————————————————————————⋮ (2/2)  0.00s\n"
     ]
    },
    {
     "data": {
      "text/plain": [
       "<cad_viewer_widget.widget.CadViewer at 0x7ff0a844eb60>"
      ]
     },
     "execution_count": 9,
     "metadata": {},
     "output_type": "execute_result"
    }
   ],
   "source": [
    "innerTop = cq.Sketch().rect(tx - 2*thickness, ty - 2*thickness).vertices().fillet(rt).moved(cq.Location(cq.Vector(0, 0, height - abs(depth) - topThickness)))\n",
    "show(top, innerTop)"
   ]
  },
  {
   "cell_type": "code",
   "execution_count": 10,
   "id": "503ecf30-3e77-4aba-bd5c-a153d0da2b8b",
   "metadata": {},
   "outputs": [
    {
     "name": "stdout",
     "output_type": "stream",
     "text": [
      "100% ⋮————————————————————————————————————————————————————————————⋮ (2/2)  0.01s\n"
     ]
    },
    {
     "data": {
      "text/plain": [
       "<cad_viewer_widget.widget.CadViewer at 0x7ff0a844eb60>"
      ]
     },
     "execution_count": 10,
     "metadata": {},
     "output_type": "execute_result"
    }
   ],
   "source": [
    "faceInnerTop = cq.Workplane(\"XY\").transformed(offset=(0,0,0), rotate=(angle,0,0)).placeSketch(innerTop).tag(\"innerTop\")\n",
    "inner = cq.Workplane(\"XY\").placeSketch(innerBase).add(faceInnerTop).loft()\n",
    "show(keycap3, inner)"
   ]
  },
  {
   "cell_type": "code",
   "execution_count": 11,
   "id": "3b1bf07c-3d0a-4345-a27b-fc5d290449eb",
   "metadata": {},
   "outputs": [
    {
     "data": {
      "text/plain": [
       "<cad_viewer_widget.widget.CadViewer at 0x7ff0a844eb60>"
      ]
     },
     "execution_count": 11,
     "metadata": {},
     "output_type": "execute_result"
    }
   ],
   "source": [
    "keycap4 = keycap3 - inner\n",
    "show(keycap4)"
   ]
  },
  {
   "cell_type": "code",
   "execution_count": 12,
   "id": "c29dda22-a4b3-4e12-9f28-61d9b89d882f",
   "metadata": {},
   "outputs": [],
   "source": [
    "#cross = cq.Sketch().rect(1.17+0.6, 1.17+0.6).vertices().circle(0.3,mode='s').reset().rect(4.1, 1.17).rect(1.17, 4.1)\n",
    "cross = cq.Sketch().circle(5.3/2).rect(1.17+0.6, 1.17+0.6, mode='s', tag='x').vertices(tag='x').circle(0.3,mode='a').reset().rect(4.1, 1.17, mode='s').rect(1.17, 4.1, mode='s').clean()\n",
    "cross"
   ]
  },
  {
   "cell_type": "code",
   "execution_count": 13,
   "id": "9501affa-cc9c-43e4-9fe3-228825431b04",
   "metadata": {},
   "outputs": [],
   "source": [
    "stem = cq.Workplane(\"XY\").add((-19.05, 0, 0)).placeSketch(cross.moved(cq.Location(cq.Vector(0,0,-1)))).tag('cross').extrude(height+1,combine=False).split(keycap4).solids(\"<Z\")\n",
    "keycap5 = keycap4 + stem\n",
    "keycap5"
   ]
  },
  {
   "cell_type": "code",
   "execution_count": 18,
   "id": "2e772991-6bab-4353-aa1e-6b47524d4d8d",
   "metadata": {},
   "outputs": [],
   "source": [
    "keycap6 = keycap5.edges(\"<Z and %Line\").chamfer(0.2).edges(cq.NearestToPointSelector((0,0,height-thickness))).chamfer(0.5)\n",
    "keycap6"
   ]
  },
  {
   "cell_type": "code",
   "execution_count": 17,
   "id": "a5f19d79-b2d2-41df-bfb8-edda065dc0d5",
   "metadata": {},
   "outputs": [],
   "source": [
    "keycap7 = cq.Workplane(\"XY\").transformed(offset=(0,0,height-max(depth, 0))).sphere(0.4).add(keycap6).combine()\n",
    "keycap7"
   ]
  },
  {
   "cell_type": "code",
   "execution_count": 16,
   "id": "cd294980-f602-4114-8b54-01bfb23df568",
   "metadata": {},
   "outputs": [
    {
     "name": "stdout",
     "output_type": "stream",
     "text": [
      "\u001b[32;1m\n",
      "*******************************************************************\n",
      "******        Statistics on Transfer (Write)                 ******\u001b[0m\n",
      "\u001b[32;1m\n",
      "*******************************************************************\n",
      "******        Transfer Mode = 0  I.E.  As Is       ******\u001b[0m\n",
      "\u001b[32;1m******        Transferring Shape, ShapeType = 0                      ******\u001b[0m\n",
      "\u001b[32;1m** WorkSession : Sending all data\u001b[0m\n",
      "\u001b[32;1m Step File Name : spherical-r2r4.step(7413 ents)  Write  Done\u001b[0m\n"
     ]
    }
   ],
   "source": [
    "#cq.exporters.export(keycap6, 'spherical-r2r4.stl', tolerance=0.001, angularTolerance=0.05)\n",
    "#cq.exporters.export(keycap6, 'spherical-r2r4.step')"
   ]
  },
  {
   "cell_type": "code",
   "execution_count": null,
   "id": "f819c7c0-a946-4d3d-b302-b22d3274b388",
   "metadata": {},
   "outputs": [],
   "source": []
  }
 ],
 "metadata": {
  "kernelspec": {
   "display_name": "Python 3 (ipykernel)",
   "language": "python",
   "name": "python3"
  },
  "language_info": {
   "codemirror_mode": {
    "name": "ipython",
    "version": 3
   },
   "file_extension": ".py",
   "mimetype": "text/x-python",
   "name": "python",
   "nbconvert_exporter": "python",
   "pygments_lexer": "ipython3",
   "version": "3.10.9"
  }
 },
 "nbformat": 4,
 "nbformat_minor": 5
}
