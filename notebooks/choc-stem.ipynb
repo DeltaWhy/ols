{
 "cells": [
  {
   "cell_type": "code",
   "execution_count": 1,
   "id": "56357344-14b0-4891-9515-d99ec1b36215",
   "metadata": {},
   "outputs": [
    {
     "name": "stdout",
     "output_type": "stream",
     "text": [
      "Overwriting auto display for cadquery Workplane and Shape\n"
     ]
    }
   ],
   "source": [
    "from jupyter_cadquery import set_defaults, open_viewer, show\n",
    "#set_defaults(theme=\"dark\")\n",
    "open_viewer(\"CadQuery\")\n",
    "\n",
    "import cadquery as cq"
   ]
  },
  {
   "cell_type": "code",
   "execution_count": 77,
   "id": "956b3562-0719-491f-be8d-75c838ef5f62",
   "metadata": {},
   "outputs": [],
   "source": [
    "unitX = 1  # TODO\n",
    "unitY = 1  # TOOD\n",
    "unit = 19.05\n",
    "bx = 18.3\n",
    "by = 18.3\n",
    "rb = 1.5\n",
    "tx = 13.5\n",
    "ty = 13.5\n",
    "rt = 2.5\n",
    "height = 5.0\n",
    "angle = 0\n",
    "depth = 1.5\n",
    "thickness = 1.5\n",
    "topThickness = 1.5\n",
    "fillet = 0.5\n",
    "stemTolerance = 0.0\n",
    "stemHeight = 1.0\n",
    "stemChamfer1 = 0.2\n",
    "stemChamfer2 = 0.5\n",
    "homingDot = False\n",
    "cut = False"
   ]
  },
  {
   "cell_type": "code",
   "execution_count": 78,
   "id": "eec59110-4b4d-4e9f-bd6e-f36fb1a2cd30",
   "metadata": {},
   "outputs": [
    {
     "data": {
      "text/plain": [
       "<cad_viewer_widget.widget.CadViewer at 0x7f8384389db0>"
      ]
     },
     "execution_count": 78,
     "metadata": {},
     "output_type": "execute_result"
    }
   ],
   "source": [
    "baseX = unit * (unitX - 1) + bx\n",
    "baseY = unit * (unitY - 1) + by\n",
    "base = cq.Sketch().rect(baseX, baseY).vertices().fillet(rb)\n",
    "topX = unit * (unitX - 1) + tx\n",
    "topY = unit * (unitY - 1) + ty\n",
    "top = cq.Sketch().rect(topX, topY).vertices().fillet(rt).moved(cq.Location(cq.Vector(0, 0, height)))\n",
    "#show(top, base)\n",
    "\n",
    "faceTop = cq.Workplane(\"XY\").transformed(offset=(0,0,0), rotate=(angle,0,0)).placeSketch(top)\n",
    "keycap1 = cq.Workplane(\"XY\").tag(\"base\").placeSketch(base).add(faceTop).loft()\n",
    "#keycap1\n",
    "\n",
    "dishOffset = height + depth if depth < 0 else height\n",
    "scoop = (\n",
    "    cq.Workplane(\"XZ\").transformed(offset=(0, dishOffset, 0), rotate=(angle, 0, 0))\n",
    "    .add(keycap1).moveTo(-topX/2-0.2,0).threePointArc((0, -depth),(topX/2+0.2,0))\n",
    "    .lineTo(baseX/2,height).lineTo(-baseX/2,height).close()\n",
    ")\n",
    "#show(keycap1, scoop)\n",
    "\n",
    "r = depth/2 + ((baseX/2+0.5)*2)**2/(8*depth)\n",
    "dish = (cq.Workplane(\"XZ\").transformed(offset=(0, dishOffset, -0.5), rotate=(angle, 0, 0))\n",
    "    .moveTo(-baseX/2-0.5,0).radiusArc((0, -depth),-r)\n",
    "    .lineTo(0, height).lineTo(-baseX/2, height).close().revolve(360, combine=False)\n",
    ")\n",
    "#show(keycap1, dish)\n",
    "keycap2 = keycap1 - dish\n",
    "\n",
    "keycap3 = keycap2.edges(\">>Z[-2]\").fillet(fillet)\n",
    "#keycap3\n",
    "\n",
    "innerBase = cq.Sketch().rect(baseX - 2*thickness, baseY - 2*thickness).vertices().fillet(rb)\n",
    "#show(base, innerBase)\n",
    "\n",
    "innerTop = cq.Sketch().rect(topX - 2*thickness, topY - 2*thickness).vertices().fillet(rt).moved(cq.Location(cq.Vector(0, 0, height - abs(depth) - topThickness)))\n",
    "#show(top, innerTop)\n",
    "\n",
    "faceInnerTop = cq.Workplane(\"XY\").transformed(offset=(0,0,0), rotate=(angle,0,0)).placeSketch(innerTop).tag(\"innerTop\")\n",
    "inner = cq.Workplane(\"XY\").placeSketch(innerBase).add(faceInnerTop).loft()\n",
    "#show(keycap3, inner)\n",
    "\n",
    "keycap4 = keycap3 - inner\n",
    "show(keycap4)"
   ]
  },
  {
   "cell_type": "code",
   "execution_count": 79,
   "id": "93f138ac-5196-43f4-975f-31a068f82b07",
   "metadata": {},
   "outputs": [],
   "source": [
    "#cross = cq.Sketch().rect(1.17+0.6, 1.17+0.6).vertices().circle(0.3,mode='s').reset().rect(4.1, 1.17).rect(1.17, 4.1)\n",
    "cross = cq.Sketch().circle(5.3/2).rect(1.17+stemTolerance+0.6, 1.17+stemTolerance+0.6, mode='s', tag='x').vertices(tag='x').circle(0.3,mode='a').reset().rect(4.1+stemTolerance, 1.17+stemTolerance, mode='s').rect(1.17+stemTolerance, 4.1+stemTolerance, mode='s').clean()\n",
    "cross"
   ]
  },
  {
   "cell_type": "code",
   "execution_count": 80,
   "id": "3e60d888-c4d8-4787-a612-961ede87c9c1",
   "metadata": {},
   "outputs": [
    {
     "name": "stdout",
     "output_type": "stream",
     "text": [
      "100% ⋮————————————————————————————————————————————————————————————⋮ (2/2)  0.01s\n"
     ]
    }
   ],
   "source": [
    "choc = (cq.Sketch()\n",
    "    .push([(-5.7/2,0),(5.7/2,0)])\n",
    "    .rect(0.45,2.9)\n",
    "    .rect(0.9, 2.9-0.75)\n",
    "    .rect(0.45, 2.9-0.75, mode='c', tag='x')\n",
    "    .vertices(tag='x').circle(0.75/2).clean()\n",
    ")\n",
    "choc"
   ]
  },
  {
   "cell_type": "code",
   "execution_count": 81,
   "id": "9ada9a3b-1270-4c10-bc2e-3ba623859661",
   "metadata": {},
   "outputs": [
    {
     "name": "stdout",
     "output_type": "stream",
     "text": [
      "100% ⋮————————————————————————————————————————————————————————————⋮ (2/2)  0.03s\n"
     ]
    },
    {
     "data": {
      "text/plain": [
       "<cad_viewer_widget.widget.CadViewer at 0x7f8384389db0>"
      ]
     },
     "execution_count": 81,
     "metadata": {},
     "output_type": "execute_result"
    }
   ],
   "source": [
    "stem = cq.Workplane(\"XY\").placeSketch(choc.moved(cq.Location(cq.Vector(0,0,-stemHeight)))).tag('cross').extrude(height+stemHeight,combine=False).split(keycap4).solids(\"<Z\")\n",
    "show(stem.edges(\">Z and %Line\"))"
   ]
  },
  {
   "cell_type": "code",
   "execution_count": 82,
   "id": "f351f530-92c0-4383-9a6e-01538640f69a",
   "metadata": {},
   "outputs": [],
   "source": [
    "keycap5 = keycap4 + stem\n",
    "keycap5"
   ]
  },
  {
   "cell_type": "code",
   "execution_count": 83,
   "id": "00bd019b-6ea8-4bfe-81a9-cff9e8614b7e",
   "metadata": {},
   "outputs": [],
   "source": [
    "keycap6 = keycap5"
   ]
  },
  {
   "cell_type": "code",
   "execution_count": 84,
   "id": "d2a5d266-855b-41ad-b7a5-87540638ca5e",
   "metadata": {},
   "outputs": [],
   "source": [
    "if homingDot:\n",
    "    keycap = cq.Workplane(\"XY\").transformed(offset=(0,0,height-depth)).sphere(0.4).add(keycap6).combine()\n",
    "else:\n",
    "    keycap = keycap6\n",
    "\n",
    "if cut is True:\n",
    "    cut = 0.6\n",
    "if cut:\n",
    "    keycap = cq.Workplane(\"XZ\").add(keycap).workplane(by/2 - cut).split(keepBottom=True)\n",
    "\n",
    "keycap"
   ]
  },
  {
   "cell_type": "code",
   "execution_count": null,
   "id": "88d42e16-51d7-4608-a39e-ac18e761a7a7",
   "metadata": {},
   "outputs": [],
   "source": []
  }
 ],
 "metadata": {
  "kernelspec": {
   "display_name": "Python 3 (ipykernel)",
   "language": "python",
   "name": "python3"
  },
  "language_info": {
   "codemirror_mode": {
    "name": "ipython",
    "version": 3
   },
   "file_extension": ".py",
   "mimetype": "text/x-python",
   "name": "python",
   "nbconvert_exporter": "python",
   "pygments_lexer": "ipython3",
   "version": "3.10.9"
  }
 },
 "nbformat": 4,
 "nbformat_minor": 5
}
