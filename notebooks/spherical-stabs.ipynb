{
 "cells": [
  {
   "cell_type": "code",
   "execution_count": 89,
   "id": "4d92ca14-874d-462b-85b1-1e39eb9d0ac2",
   "metadata": {},
   "outputs": [],
   "source": [
    "from jupyter_cadquery import set_defaults, open_viewer, show\n",
    "#set_defaults(theme=\"dark\")\n",
    "open_viewer(\"CadQuery\")\n",
    "import cadquery as cq\n",
    "\n",
    "unitX = 1  # TODO\n",
    "unitY = 1  # TOOD\n",
    "unit = 19.05\n",
    "bx = 18.3\n",
    "by = 18.3\n",
    "rb = 1.5\n",
    "tx = 13.5\n",
    "ty = 13.5\n",
    "rt = 2.5\n",
    "height = 5.0\n",
    "angle = -0\n",
    "depth = -1.0\n",
    "thickness = 1.5\n",
    "topThickness = 1.5\n",
    "fillet = 0.5\n",
    "stemType = 'mx'\n",
    "stemTolerance = 0.0\n",
    "stemTolerance2 = None\n",
    "stemHeight = 1.0\n",
    "stemChamfer1 = 0.2\n",
    "stemChamfer2 = 0.5\n",
    "homingDot = False\n",
    "cut = False"
   ]
  },
  {
   "cell_type": "code",
   "execution_count": 94,
   "id": "1c07bcfe-0b4f-4c46-8d4b-025215bae285",
   "metadata": {},
   "outputs": [
    {
     "name": "stdout",
     "output_type": "stream",
     "text": [
      "100% ⋮————————————————————————————————————————————————————————————⋮ (3/3)  0.00s\n",
      "100% ⋮————————————————————————————————————————————————————————————⋮ (2/2)  0.05s\n"
     ]
    },
    {
     "data": {
      "text/plain": [
       "<cad_viewer_widget.widget.CadViewer at 0x7fb36c387d30>"
      ]
     },
     "execution_count": 94,
     "metadata": {},
     "output_type": "execute_result"
    }
   ],
   "source": [
    "baseX = unit * (unitX - 1) + bx\n",
    "baseY = unit * (unitY - 1) + by\n",
    "base = cq.Sketch().rect(baseX, baseY).vertices().fillet(rb)\n",
    "topX = unit * (unitX - 1) + tx\n",
    "topY = unit * (unitY - 1) + ty\n",
    "top = cq.Sketch().rect(topX, topY).vertices().fillet(rt).moved(cq.Location(cq.Vector(0, 0, height)))\n",
    "#show(top, base)\n",
    "\n",
    "faceTop = cq.Workplane(\"XY\").transformed(offset=(0,0,0), rotate=(angle,0,0)).placeSketch(top)\n",
    "keycap1 = cq.Workplane(\"XY\").tag(\"base\").placeSketch(base).add(faceTop).loft()\n",
    "#keycap1\n",
    "\n",
    "dishOffset = height + depth if depth < 0 else height\n",
    "scoop = (\n",
    "    cq.Workplane(\"XZ\").transformed(offset=(0, dishOffset, 0), rotate=(angle, 0, 0))\n",
    "    .add(keycap1).moveTo(-topX/2-0.2,0).threePointArc((0, -depth),(topX/2+0.2,0))\n",
    "    .lineTo(baseX/2,height).lineTo(-baseX/2,height).close()\n",
    ")\n",
    "show(keycap1, scoop)\n",
    "\n",
    "r = depth/2 + ((baseX/2+0.5)*2)**2/(8*depth)\n",
    "dish = (cq.Workplane(\"XZ\").transformed(offset=(0, dishOffset, -0.5), rotate=(angle, 0, 0))\n",
    "    .moveTo(-baseX/2-0.5,0).radiusArc((0, -depth),-r)\n",
    "    .lineTo(0, height).lineTo(-baseX/2, height).close().revolve(360, combine=False)\n",
    ")\n",
    "show(keycap1, dish)\n",
    "keycap2 = keycap1 - dish\n",
    "\n",
    "show(keycap2.wires(\">>Z[-1]\").fillet(fillet))"
   ]
  },
  {
   "cell_type": "code",
   "execution_count": 95,
   "id": "898e05c2-09ff-484b-a752-64e5c987e31a",
   "metadata": {},
   "outputs": [
    {
     "name": "stdout",
     "output_type": "stream",
     "text": [
      "100% ⋮————————————————————————————————————————————————————————————⋮ (2/2)  0.17s\n"
     ]
    }
   ],
   "source": [
    "keycap3 = keycap2.wires(\">>Z[-1]\").fillet(fillet)\n",
    "#keycap3\n",
    "\n",
    "innerBase = cq.Sketch().rect(baseX - 2*thickness, baseY - 2*thickness).vertices().fillet(rb)\n",
    "#show(base, innerBase)\n",
    "\n",
    "innerTop = cq.Sketch().rect(topX - 2*thickness, topY - 2*thickness).vertices().fillet(rt).moved(cq.Location(cq.Vector(0, 0, height - abs(depth) - topThickness)))\n",
    "#show(top, innerTop)\n",
    "\n",
    "faceInnerTop = cq.Workplane(\"XY\").transformed(offset=(0,0,0), rotate=(angle,0,0)).placeSketch(innerTop).tag(\"innerTop\")\n",
    "inner = cq.Workplane(\"XY\").placeSketch(innerBase).add(faceInnerTop).loft()\n",
    "#show(keycap3, inner)\n",
    "\n",
    "keycap4 = keycap3 - inner\n",
    "#show(keycap4)\n",
    "\n",
    "if stemType == 'mx':\n",
    "    #cross = cq.Sketch().rect(1.17+0.6, 1.17+0.6).vertices().circle(0.3,mode='s').reset().rect(4.1, 1.17).rect(1.17, 4.1)\n",
    "    cross = cq.Sketch().circle(5.3/2).rect(1.17+stemTolerance+0.6, 1.17+stemTolerance+0.6, mode='s', tag='x').vertices(tag='x').circle(0.3,mode='a').reset().rect(4.1+stemTolerance, 1.17+stemTolerance, mode='s').rect(1.17+stemTolerance, 4.1+stemTolerance, mode='s').clean()\n",
    "    #cross\n",
    "    points = [cq.Location(cq.Vector(0,0,-stemHeight))]\n",
    "    if unitX > 2:\n",
    "        points.append(cq.Location(cq.Vector((unitX-1)*unit/2,0,-stemHeight)))\n",
    "        points.append(cq.Location(cq.Vector(-(unitX-1)*unit/2,0,-stemHeight)))\n",
    "    wp = cq.Workplane(\"XY\")\n",
    "    wp = wp.placeSketch(*[cross.moved(p) for p in points]).tag('cross')#.extrude(height+stemHeight,combine=False)\n",
    "    show(wp)\n",
    "    #return wp\n",
    "    stem = wp.extrude(height+stemHeight+topThickness,combine=True).workplane().split(keepBottom=True)\n",
    "    show(stem,keycap4)\n",
    "    show(keycap4.union(stem))"
   ]
  },
  {
   "cell_type": "code",
   "execution_count": 96,
   "id": "bd63cf94-0a75-4a38-b8fa-b026c07680bb",
   "metadata": {},
   "outputs": [],
   "source": [
    "if stemType == 'choc':\n",
    "    if stemTolerance2 is None:\n",
    "        stemTolerance2 = stemTolerance\n",
    "    choc = (cq.Sketch()\n",
    "        .push([(-5.7/2,0),(5.7/2,0)])\n",
    "        .rect(0.45,2.9)\n",
    "        .rect(0.9, 2.9-0.75)\n",
    "        .rect(0.45, 2.9-0.75, mode='c', tag='x')\n",
    "        .vertices(tag='x').circle(0.75/2).clean()\n",
    "    )\n",
    "    #show_object(choc)\n",
    "    choc = (cq.Sketch()\n",
    "        .push([(-5.7/2,0),(5.7/2,0)])\n",
    "        .rect(0.45+stemTolerance,2.9+stemTolerance2)\n",
    "        .rect(0.9+stemTolerance, 2.9-0.75+stemTolerance2)\n",
    "        .rect(0.45+stemTolerance, 2.9-0.75+stemTolerance2, mode='c', tag='x')\n",
    "        .vertices(tag='x').circle(0.75/2).clean()\n",
    "    )\n",
    "    #show_object(choc)\n",
    "    stem = cq.Workplane(\"XY\").placeSketch(choc.moved(cq.Location(cq.Vector(0,0,-stemHeight)))).tag('cross').extrude(height+stemHeight,combine=False).split(keycap4).solids(\"<Z\")\n",
    "keycap5 = keycap4 + stem\n",
    "keycap5"
   ]
  },
  {
   "cell_type": "code",
   "execution_count": 100,
   "id": "aa7d9501-1145-4f09-be9a-8cadb7c97edc",
   "metadata": {},
   "outputs": [
    {
     "name": "stdout",
     "output_type": "stream",
     "text": [
      "100% ⋮————————————————————————————————————————————————————————————⋮ (2/2)  0.19s\n",
      "100% ⋮————————————————————————————————————————————————————————————⋮ (2/2)  0.19s\n"
     ]
    },
    {
     "ename": "ValueError",
     "evalue": "Chamfer requires that edges be selected",
     "output_type": "error",
     "traceback": [
      "\u001b[0;31m---------------------------------------------------------------------------\u001b[0m",
      "\u001b[0;31mValueError\u001b[0m                                Traceback (most recent call last)",
      "Cell \u001b[0;32mIn[100], line 14\u001b[0m\n\u001b[1;32m     12\u001b[0m     show(keycap5\u001b[38;5;241m.\u001b[39medges(\u001b[38;5;124m\"\u001b[39m\u001b[38;5;124m<Z and \u001b[39m\u001b[38;5;132;01m%Li\u001b[39;00m\u001b[38;5;124mne\u001b[39m\u001b[38;5;124m\"\u001b[39m)\u001b[38;5;241m.\u001b[39mchamfer(stemChamfer1)\u001b[38;5;241m.\u001b[39mfaces(tag\u001b[38;5;241m=\u001b[39m\u001b[38;5;124m\"\u001b[39m\u001b[38;5;124minnerTop\u001b[39m\u001b[38;5;124m\"\u001b[39m))\n\u001b[1;32m     13\u001b[0m     \u001b[38;5;66;03m#show(keycap5.edges(\"<Z and %Line\").chamfer(stemChamfer1).edges('%Ellipse').edges(cq.selectors.LengthNthSelector(1)).chamfer(stemChamfer2))\u001b[39;00m\n\u001b[0;32m---> 14\u001b[0m     keycap6 \u001b[38;5;241m=\u001b[39m \u001b[43mkeycap5\u001b[49m\u001b[38;5;241;43m.\u001b[39;49m\u001b[43medges\u001b[49m\u001b[43m(\u001b[49m\u001b[38;5;124;43m\"\u001b[39;49m\u001b[38;5;124;43m<Z and \u001b[39;49m\u001b[38;5;132;43;01m%Li\u001b[39;49;00m\u001b[38;5;124;43mne\u001b[39;49m\u001b[38;5;124;43m\"\u001b[39;49m\u001b[43m)\u001b[49m\u001b[38;5;241;43m.\u001b[39;49m\u001b[43mchamfer\u001b[49m\u001b[43m(\u001b[49m\u001b[43mstemChamfer1\u001b[49m\u001b[43m)\u001b[49m\u001b[38;5;241;43m.\u001b[39;49m\u001b[43mwires\u001b[49m\u001b[43m(\u001b[49m\u001b[43mZSelector\u001b[49m\u001b[43m(\u001b[49m\u001b[43mheight\u001b[49m\u001b[43m \u001b[49m\u001b[38;5;241;43m-\u001b[39;49m\u001b[43m \u001b[49m\u001b[38;5;28;43mabs\u001b[39;49m\u001b[43m(\u001b[49m\u001b[43mdepth\u001b[49m\u001b[43m)\u001b[49m\u001b[43m \u001b[49m\u001b[38;5;241;43m-\u001b[39;49m\u001b[43m \u001b[49m\u001b[43mtopThickness\u001b[49m\u001b[43m)\u001b[49m\u001b[43m \u001b[49m\u001b[38;5;241;43m&\u001b[39;49m\u001b[43m \u001b[49m\u001b[43mcq\u001b[49m\u001b[38;5;241;43m.\u001b[39;49m\u001b[43mselectors\u001b[49m\u001b[38;5;241;43m.\u001b[39;49m\u001b[43mRadiusNthSelector\u001b[49m\u001b[43m(\u001b[49m\u001b[38;5;241;43m1\u001b[39;49m\u001b[43m)\u001b[49m\u001b[43m)\u001b[49m\u001b[38;5;241;43m.\u001b[39;49m\u001b[43mchamfer\u001b[49m\u001b[43m(\u001b[49m\u001b[43mstemChamfer2\u001b[49m\u001b[43m)\u001b[49m\n\u001b[1;32m     15\u001b[0m \u001b[38;5;28;01melse\u001b[39;00m:\n\u001b[1;32m     16\u001b[0m     keycap6 \u001b[38;5;241m=\u001b[39m keycap5\n",
      "File \u001b[0;32m~/.conda/envs/ols/lib/python3.10/site-packages/cadquery/cq.py:1295\u001b[0m, in \u001b[0;36mWorkplane.chamfer\u001b[0;34m(self, length, length2)\u001b[0m\n\u001b[1;32m   1293\u001b[0m edgeList \u001b[38;5;241m=\u001b[39m cast(List[Edge], \u001b[38;5;28mself\u001b[39m\u001b[38;5;241m.\u001b[39medges()\u001b[38;5;241m.\u001b[39mvals())\n\u001b[1;32m   1294\u001b[0m \u001b[38;5;28;01mif\u001b[39;00m \u001b[38;5;28mlen\u001b[39m(edgeList) \u001b[38;5;241m<\u001b[39m \u001b[38;5;241m1\u001b[39m:\n\u001b[0;32m-> 1295\u001b[0m     \u001b[38;5;28;01mraise\u001b[39;00m \u001b[38;5;167;01mValueError\u001b[39;00m(\u001b[38;5;124m\"\u001b[39m\u001b[38;5;124mChamfer requires that edges be selected\u001b[39m\u001b[38;5;124m\"\u001b[39m)\n\u001b[1;32m   1297\u001b[0m s \u001b[38;5;241m=\u001b[39m solid\u001b[38;5;241m.\u001b[39mchamfer(length, length2, edgeList)\n\u001b[1;32m   1299\u001b[0m \u001b[38;5;28;01mreturn\u001b[39;00m \u001b[38;5;28mself\u001b[39m\u001b[38;5;241m.\u001b[39mnewObject([s])\n",
      "\u001b[0;31mValueError\u001b[0m: Chamfer requires that edges be selected"
     ]
    }
   ],
   "source": [
    "class ZSelector(cq.Selector):\n",
    "    z: float = 0.0\n",
    "    def __init__(self, z):\n",
    "        self.z = z\n",
    "    \n",
    "    def filter(self, objectList):\n",
    "        return [o for o in objectList if abs(o.Center().z - self.z) < 0.00001]\n",
    "        \n",
    "\n",
    "if stemType == 'mx':\n",
    "    show(keycap5.edges(\"<Z and %Line\").chamfer(stemChamfer1).wires(ZSelector(height - abs(depth) - topThickness) & cq.selectors.RadiusNthSelector(1)))#.chamfer(stemChamfer2))\n",
    "    show(keycap5.edges(\"<Z and %Line\").chamfer(stemChamfer1).faces(tag=\"innerTop\"))\n",
    "    #show(keycap5.edges(\"<Z and %Line\").chamfer(stemChamfer1).edges('%Ellipse').edges(cq.selectors.LengthNthSelector(1)).chamfer(stemChamfer2))\n",
    "    keycap6 = keycap5.edges(\"<Z and %Line\").chamfer(stemChamfer1).wires(ZSelector(height - abs(depth) - topThickness) & cq.selectors.RadiusNthSelector(1)).chamfer(stemChamfer2)\n",
    "else:\n",
    "    keycap6 = keycap5\n",
    "\n",
    "if homingDot:\n",
    "    keycap = cq.Workplane(\"XY\").transformed(offset=(0,0,height-depth)).sphere(0.4).add(keycap6).combine()\n",
    "else:\n",
    "    keycap = keycap6\n",
    "\n",
    "if cut is True:\n",
    "    cut = 0.6\n",
    "if cut:\n",
    "    keycap = cq.Workplane(\"XZ\").add(keycap).workplane(by/2 - cut).split(keepBottom=True)\n",
    "keycap"
   ]
  },
  {
   "cell_type": "code",
   "execution_count": null,
   "id": "97066785-2277-4bdb-97e4-5e837d5c6199",
   "metadata": {},
   "outputs": [],
   "source": []
  },
  {
   "cell_type": "code",
   "execution_count": null,
   "id": "e6bc59a9-53ae-4d8c-9842-80f79c441dbc",
   "metadata": {},
   "outputs": [],
   "source": []
  }
 ],
 "metadata": {
  "kernelspec": {
   "display_name": "Python 3 (ipykernel)",
   "language": "python",
   "name": "python3"
  },
  "language_info": {
   "codemirror_mode": {
    "name": "ipython",
    "version": 3
   },
   "file_extension": ".py",
   "mimetype": "text/x-python",
   "name": "python",
   "nbconvert_exporter": "python",
   "pygments_lexer": "ipython3",
   "version": "3.10.9"
  }
 },
 "nbformat": 4,
 "nbformat_minor": 5
}
